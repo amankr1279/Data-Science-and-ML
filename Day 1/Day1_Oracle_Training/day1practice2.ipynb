{
 "cells": [
  {
   "cell_type": "code",
   "execution_count": null,
   "id": "3dc529d5",
   "metadata": {},
   "outputs": [],
   "source": [
    "\n",
    "# ## Conditional Statements \n",
    "# if then else \n",
    "#if conditional expression :\n",
    "#   statement 1\n",
    "#    statement 2\n",
    " #   indentation \n"
   ]
  },
  {
   "cell_type": "code",
   "execution_count": null,
   "id": "0a7bfd95",
   "metadata": {},
   "outputs": [],
   "source": [
    "num = 334"
   ]
  },
  {
   "cell_type": "code",
   "execution_count": 8,
   "id": "91f59101",
   "metadata": {},
   "outputs": [
    {
     "name": "stdout",
     "output_type": "stream",
     "text": [
      "please enter a number : 34\n",
      "Even\n"
     ]
    }
   ],
   "source": [
    "# inputs by user \n",
    "num = int(input(\"please enter a number : \"))\n",
    "\n",
    "\n",
    "if num % 2 == 0:\n",
    "    print('Even')\n",
    "else:\n",
    "    print('odd')"
   ]
  },
  {
   "cell_type": "code",
   "execution_count": null,
   "id": "d5750f4e",
   "metadata": {},
   "outputs": [],
   "source": [
    "# take input marks and grade them :\n",
    "# A => 90 and above\n",
    "# B => 75 - 90\n",
    "# C => 55 - 75\n",
    "# D => 35 - 55\n",
    "# F => <35\n",
    "\n"
   ]
  },
  {
   "cell_type": "code",
   "execution_count": 9,
   "id": "df680c4e",
   "metadata": {},
   "outputs": [
    {
     "name": "stdout",
     "output_type": "stream",
     "text": [
      " Please Enter Marks : 99\n",
      "A\n"
     ]
    }
   ],
   "source": [
    "marks = int(input(\" Please Enter Marks : \"))\n",
    "\n",
    "if marks >= 90:\n",
    "    grade = 'A'\n",
    "else :\n",
    "    if marks >= 75:\n",
    "        grade = 'B'\n",
    "    else :\n",
    "        if marks >= 55:\n",
    "            grade = 'C'\n",
    "        else :\n",
    "            if marks >= 35:\n",
    "                grade = 'D'\n",
    "            else :\n",
    "                grade = 'F'\n",
    "print(grade)\n",
    "\n"
   ]
  },
  {
   "cell_type": "code",
   "execution_count": 1,
   "id": "e1306fb3",
   "metadata": {},
   "outputs": [
    {
     "name": "stdout",
     "output_type": "stream",
     "text": [
      " Please Enter Marks : 89\n"
     ]
    }
   ],
   "source": [
    "marks = int(input(\" Please Enter Marks : \"))\n"
   ]
  },
  {
   "cell_type": "code",
   "execution_count": 2,
   "id": "420fa68f",
   "metadata": {},
   "outputs": [
    {
     "name": "stdout",
     "output_type": "stream",
     "text": [
      "B\n"
     ]
    }
   ],
   "source": [
    "if marks >= 90:\n",
    "    grade = 'A'\n",
    "elif marks >= 75:\n",
    "    grade = 'B'\n",
    "elif marks >= 55:\n",
    "    grade = 'C'\n",
    "elif marks >= 35:\n",
    "    grade = 'D'\n",
    "else :\n",
    "    grade = 'F'\n",
    "print(grade)\n"
   ]
  },
  {
   "cell_type": "code",
   "execution_count": 3,
   "id": "9bdb952c",
   "metadata": {},
   "outputs": [
    {
     "name": "stdout",
     "output_type": "stream",
     "text": [
      "B\n"
     ]
    }
   ],
   "source": [
    "if marks >= 90: grade = 'A'\n",
    "elif marks >= 75: grade = 'B'\n",
    "elif marks >= 55: grade = 'C'\n",
    "elif marks >= 35:grade = 'D'\n",
    "else :grade = 'F'\n",
    "print(grade)\n"
   ]
  },
  {
   "cell_type": "code",
   "execution_count": null,
   "id": "ad9c3c6c",
   "metadata": {},
   "outputs": [],
   "source": [
    "# ## loops : iterations\n",
    "# * for loop  -- the number of itetations are known\n",
    "# * while loop --- condition is known\n",
    " "
   ]
  },
  {
   "cell_type": "code",
   "execution_count": 4,
   "id": "fe5645aa",
   "metadata": {},
   "outputs": [
    {
     "name": "stdout",
     "output_type": "stream",
     "text": [
      "Jane\n",
      "Jake\n",
      "Jerry\n",
      "Jordan\n"
     ]
    }
   ],
   "source": [
    "names = ['jane','jake','jerry','jordan'] \n",
    "# with a uppercase first letter\n",
    "\n",
    "for name in names :\n",
    "    print(name.capitalize())\n"
   ]
  },
  {
   "cell_type": "code",
   "execution_count": 5,
   "id": "4a5d2a83",
   "metadata": {},
   "outputs": [],
   "source": [
    "age = [11, 13,12,11]"
   ]
  },
  {
   "cell_type": "code",
   "execution_count": 6,
   "id": "8e45636e",
   "metadata": {},
   "outputs": [],
   "source": [
    "# dictionary name is key and age is value\n",
    "name_age = {}\n",
    "for i in [0,1,2,3]:\n",
    "    name_age[names[i]] = age[i]\n"
   ]
  },
  {
   "cell_type": "code",
   "execution_count": 7,
   "id": "3afabab5",
   "metadata": {},
   "outputs": [
    {
     "data": {
      "text/plain": [
       "{'jane': 11, 'jake': 13, 'jerry': 12, 'jordan': 11}"
      ]
     },
     "execution_count": 7,
     "metadata": {},
     "output_type": "execute_result"
    }
   ],
   "source": [
    "name_age"
   ]
  },
  {
   "cell_type": "code",
   "execution_count": 8,
   "id": "0e62c182",
   "metadata": {},
   "outputs": [
    {
     "name": "stdout",
     "output_type": "stream",
     "text": [
      "3\n",
      "6\n",
      "9\n",
      "12\n",
      "15\n",
      "18\n",
      "21\n",
      "24\n",
      "27\n",
      "30\n",
      "33\n",
      "36\n",
      "39\n",
      "42\n",
      "45\n",
      "48\n"
     ]
    }
   ],
   "source": [
    "for i in range(1,50):\n",
    "    if i % 3== 0:\n",
    "        print(i)\n"
   ]
  },
  {
   "cell_type": "code",
   "execution_count": 9,
   "id": "c84c7481",
   "metadata": {},
   "outputs": [
    {
     "data": {
      "text/plain": [
       "616.7781186449956"
      ]
     },
     "execution_count": 9,
     "metadata": {},
     "output_type": "execute_result"
    }
   ],
   "source": [
    "p = 10000\n",
    "tot_int = 0\n",
    "for i in range(1,13):\n",
    "    tot_int = tot_int + ( p + tot_int) * 6/1200\n",
    "tot_int\n"
   ]
  },
  {
   "cell_type": "code",
   "execution_count": 10,
   "id": "80032b14",
   "metadata": {},
   "outputs": [
    {
     "name": "stdout",
     "output_type": "stream",
     "text": [
      "Months it takes is 28\n",
      "years it takes is 2.3333333333333335\n"
     ]
    }
   ],
   "source": [
    "money_invested = 10000\n",
    "interest_rate = 6\n",
    "\n",
    "total_money = money_invested\n",
    "count = 0\n",
    "\n",
    "while (total_money < 50000):\n",
    "  total_money = total_money + total_money * 0.06\n",
    "  count = count + 1\n",
    "\n",
    "print(\"Months it takes is\", count)\n",
    "print(\"years it takes is\", count / 12)"
   ]
  },
  {
   "cell_type": "code",
   "execution_count": 11,
   "id": "b03691dd",
   "metadata": {},
   "outputs": [],
   "source": [
    "earned = 10000 ; year = 1\n",
    "while earned <= 50000:\n",
    "    tot_int = 0\n",
    "    for i in range(1,13):\n",
    "        interest = ( earned + tot_int) * 6/1200\n",
    "        tot_int = tot_int + interest\n",
    "    #print(\"Year : {} Start : {:1.2f} interest : {:1.2f} end : {:1.2f}\".format(year, earned, tot_int, earned +tot_int))\n",
    "    earned = earned + tot_int # principal for next year\n",
    "    year = year + 1\n"
   ]
  },
  {
   "cell_type": "code",
   "execution_count": 13,
   "id": "9b0c70c3",
   "metadata": {},
   "outputs": [
    {
     "name": "stdout",
     "output_type": "stream",
     "text": [
      "please enter a number :: 5\n",
      "Using for loop 120 \n",
      "using while loop 120\n"
     ]
    }
   ],
   "source": [
    "\n",
    "num = int(input(\"please enter a number :: \"))\n",
    "# using for loop :\n",
    "fact = 1\n",
    "for i in range(num , 1, -1):\n",
    "    fact *= i  # fact = fact * i\n",
    "# using while loop\n",
    "i = num\n",
    "fact_while = 1\n",
    "while (i >= 1 ):\n",
    "    fact_while *= i\n",
    "    i -= 1\n",
    "    \n",
    "print(\"Using for loop {} \\nusing while loop {}\".format(fact,fact_while ))\n"
   ]
  },
  {
   "cell_type": "code",
   "execution_count": null,
   "id": "762ff02b",
   "metadata": {},
   "outputs": [],
   "source": [
    "#Assignment:\n",
    "#1. Display all even numbers those are only divisible by 6 between 1 to 100\n",
    "#2. Find out number range between 1 to 100 are perfect square root.\n",
    "#3. Find out individual factorial values between 5 to 10 and display all."
   ]
  }
 ],
 "metadata": {
  "kernelspec": {
   "display_name": "Python 3 (ipykernel)",
   "language": "python",
   "name": "python3"
  },
  "language_info": {
   "codemirror_mode": {
    "name": "ipython",
    "version": 3
   },
   "file_extension": ".py",
   "mimetype": "text/x-python",
   "name": "python",
   "nbconvert_exporter": "python",
   "pygments_lexer": "ipython3",
   "version": "3.9.12"
  }
 },
 "nbformat": 4,
 "nbformat_minor": 5
}
