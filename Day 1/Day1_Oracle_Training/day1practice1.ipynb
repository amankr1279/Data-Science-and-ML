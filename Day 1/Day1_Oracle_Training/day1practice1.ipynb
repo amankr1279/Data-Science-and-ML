{
 "cells": [
  {
   "cell_type": "code",
   "execution_count": 1,
   "id": "a218f211",
   "metadata": {},
   "outputs": [],
   "source": [
    "import sys"
   ]
  },
  {
   "cell_type": "code",
   "execution_count": 3,
   "id": "5524a755",
   "metadata": {},
   "outputs": [
    {
     "name": "stdout",
     "output_type": "stream",
     "text": [
      "3.10.9 | packaged by Anaconda, Inc. | (main, Mar  1 2023, 18:18:15) [MSC v.1916 64 bit (AMD64)]\n"
     ]
    }
   ],
   "source": [
    "print (sys.version)"
   ]
  },
  {
   "cell_type": "code",
   "execution_count": 4,
   "id": "3598e8a5",
   "metadata": {},
   "outputs": [],
   "source": [
    "import platform"
   ]
  },
  {
   "cell_type": "code",
   "execution_count": 5,
   "id": "20ff7da9",
   "metadata": {},
   "outputs": [
    {
     "data": {
      "text/plain": [
       "'3.10.9'"
      ]
     },
     "execution_count": 5,
     "metadata": {},
     "output_type": "execute_result"
    }
   ],
   "source": [
    "platform.python_version()"
   ]
  },
  {
   "cell_type": "code",
   "execution_count": 7,
   "id": "1005c07f",
   "metadata": {},
   "outputs": [
    {
     "name": "stdout",
     "output_type": "stream",
     "text": [
      "hello world\n"
     ]
    }
   ],
   "source": [
    "print (\"hello world\")"
   ]
  },
  {
   "cell_type": "code",
   "execution_count": 8,
   "id": "8b7841b8",
   "metadata": {},
   "outputs": [
    {
     "data": {
      "text/plain": [
       "80"
      ]
     },
     "execution_count": 8,
     "metadata": {},
     "output_type": "execute_result"
    }
   ],
   "source": [
    "30 + 50"
   ]
  },
  {
   "cell_type": "code",
   "execution_count": 9,
   "id": "3f03867b",
   "metadata": {},
   "outputs": [
    {
     "data": {
      "text/plain": [
       "150"
      ]
     },
     "execution_count": 9,
     "metadata": {},
     "output_type": "execute_result"
    }
   ],
   "source": [
    "30 * 5"
   ]
  },
  {
   "cell_type": "code",
   "execution_count": 11,
   "id": "f5258688",
   "metadata": {},
   "outputs": [
    {
     "data": {
      "text/plain": [
       "80"
      ]
     },
     "execution_count": 11,
     "metadata": {},
     "output_type": "execute_result"
    }
   ],
   "source": [
    "#Explicit continuation operator \\\n",
    "30 + \\\n",
    "50\n"
   ]
  },
  {
   "cell_type": "code",
   "execution_count": null,
   "id": "a01f04e5",
   "metadata": {},
   "outputs": [],
   "source": [
    "# #### Identifiers : Names given objects or variables or functions or classes \n",
    "# ## rules for identifiers :\n",
    "# * Start with either a letter ( A - Z a -z) or an underscore (_)\n",
    "# * can be followed by any combination of letters (A-Z a -z) digits (0-9) and underscore \n",
    "# * NO punctuation or special character allowed\n",
    "# * Case Sensitive\n",
    "# * No reserved words can be used as identifiers : class if else return def for in \n",
    "# * NO predefined/ builtins should be used as identifiers : print len int str "
   ]
  },
  {
   "cell_type": "code",
   "execution_count": 12,
   "id": "bbbd89f4",
   "metadata": {},
   "outputs": [
    {
     "data": {
      "text/plain": [
       "'C:\\\\Users\\\\LAKSHMI\\\\Desktop'"
      ]
     },
     "execution_count": 12,
     "metadata": {},
     "output_type": "execute_result"
    }
   ],
   "source": [
    "pwd()"
   ]
  },
  {
   "cell_type": "code",
   "execution_count": 13,
   "id": "2c294b21",
   "metadata": {},
   "outputs": [
    {
     "name": "stdout",
     "output_type": "stream",
     "text": [
      "['ArithmeticError', 'AssertionError', 'AttributeError', 'BaseException', 'BlockingIOError', 'BrokenPipeError', 'BufferError', 'BytesWarning', 'ChildProcessError', 'ConnectionAbortedError', 'ConnectionError', 'ConnectionRefusedError', 'ConnectionResetError', 'DeprecationWarning', 'EOFError', 'Ellipsis', 'EncodingWarning', 'EnvironmentError', 'Exception', 'False', 'FileExistsError', 'FileNotFoundError', 'FloatingPointError', 'FutureWarning', 'GeneratorExit', 'IOError', 'ImportError', 'ImportWarning', 'IndentationError', 'IndexError', 'InterruptedError', 'IsADirectoryError', 'KeyError', 'KeyboardInterrupt', 'LookupError', 'MemoryError', 'ModuleNotFoundError', 'NameError', 'None', 'NotADirectoryError', 'NotImplemented', 'NotImplementedError', 'OSError', 'OverflowError', 'PendingDeprecationWarning', 'PermissionError', 'ProcessLookupError', 'RecursionError', 'ReferenceError', 'ResourceWarning', 'RuntimeError', 'RuntimeWarning', 'StopAsyncIteration', 'StopIteration', 'SyntaxError', 'SyntaxWarning', 'SystemError', 'SystemExit', 'TabError', 'TimeoutError', 'True', 'TypeError', 'UnboundLocalError', 'UnicodeDecodeError', 'UnicodeEncodeError', 'UnicodeError', 'UnicodeTranslateError', 'UnicodeWarning', 'UserWarning', 'ValueError', 'Warning', 'WindowsError', 'ZeroDivisionError', '__IPYTHON__', '__build_class__', '__debug__', '__doc__', '__import__', '__loader__', '__name__', '__package__', '__spec__', 'abs', 'aiter', 'all', 'anext', 'any', 'ascii', 'bin', 'bool', 'breakpoint', 'bytearray', 'bytes', 'callable', 'chr', 'classmethod', 'compile', 'complex', 'copyright', 'credits', 'delattr', 'dict', 'dir', 'display', 'divmod', 'enumerate', 'eval', 'exec', 'execfile', 'filter', 'float', 'format', 'frozenset', 'get_ipython', 'getattr', 'globals', 'hasattr', 'hash', 'help', 'hex', 'id', 'input', 'int', 'isinstance', 'issubclass', 'iter', 'len', 'license', 'list', 'locals', 'map', 'max', 'memoryview', 'min', 'next', 'object', 'oct', 'open', 'ord', 'pow', 'print', 'property', 'range', 'repr', 'reversed', 'round', 'runfile', 'set', 'setattr', 'slice', 'sorted', 'staticmethod', 'str', 'sum', 'super', 'tuple', 'type', 'vars', 'zip']\n"
     ]
    }
   ],
   "source": [
    "print(dir(__builtins__))"
   ]
  },
  {
   "cell_type": "code",
   "execution_count": 14,
   "id": "34e2b929",
   "metadata": {},
   "outputs": [
    {
     "name": "stdout",
     "output_type": "stream",
     "text": [
      "['In', 'Out', '_', '_11', '_12', '_5', '_8', '_9', '__', '___', '__builtin__', '__builtins__', '__doc__', '__loader__', '__name__', '__package__', '__spec__', '_dh', '_i', '_i1', '_i10', '_i11', '_i12', '_i13', '_i14', '_i2', '_i3', '_i4', '_i5', '_i6', '_i7', '_i8', '_i9', '_ih', '_ii', '_iii', '_oh', 'exit', 'get_ipython', 'open', 'platform', 'quit', 'sys']\n"
     ]
    }
   ],
   "source": [
    "print(dir())"
   ]
  },
  {
   "cell_type": "code",
   "execution_count": null,
   "id": "ae42eabd",
   "metadata": {},
   "outputs": [],
   "source": [
    "##Python Data types\n",
    "# numeric\n",
    "#int,float,complex,boolean\n",
    "#character/string\n"
   ]
  },
  {
   "cell_type": "code",
   "execution_count": 15,
   "id": "7c8f330b",
   "metadata": {},
   "outputs": [],
   "source": [
    "a = 32\n",
    "b = 24.2\n",
    "c=12 + 4j\n",
    "d = True\n",
    "e=False\n"
   ]
  },
  {
   "cell_type": "code",
   "execution_count": 16,
   "id": "18b98b61",
   "metadata": {
    "collapsed": true
   },
   "outputs": [
    {
     "name": "stdout",
     "output_type": "stream",
     "text": [
      "32\n"
     ]
    }
   ],
   "source": [
    "print(a)"
   ]
  },
  {
   "cell_type": "code",
   "execution_count": 17,
   "id": "0dc53f76",
   "metadata": {
    "collapsed": true
   },
   "outputs": [
    {
     "name": "stdout",
     "output_type": "stream",
     "text": [
      "<class 'int'>\n"
     ]
    }
   ],
   "source": [
    "print(type(a))"
   ]
  },
  {
   "cell_type": "code",
   "execution_count": 18,
   "id": "327e8ad1",
   "metadata": {
    "collapsed": true
   },
   "outputs": [
    {
     "name": "stdout",
     "output_type": "stream",
     "text": [
      "<class 'float'>\n",
      "<class 'complex'>\n",
      "<class 'bool'>\n"
     ]
    }
   ],
   "source": [
    "print(type(b));print(type(c));print(type(d))"
   ]
  },
  {
   "cell_type": "code",
   "execution_count": 20,
   "id": "0e05e0aa",
   "metadata": {},
   "outputs": [],
   "source": [
    "## multiple assignments\n",
    "a,b,c,d,e,f = 23,24.3,23,12 +4j,True,40"
   ]
  },
  {
   "cell_type": "code",
   "execution_count": null,
   "id": "d6e7fb05",
   "metadata": {},
   "outputs": [],
   "source": [
    "##operators in python\n",
    "# ### Operators in Python :\n",
    "# * Assignment operator : = \n",
    "# * Arithmetic Operators : + - / *  ** (exponent) % (modulus) // (integer divide) \n",
    "# * Arithmetic combined with assignment operators : a = a+b can be written as a += b . : += -= \n",
    "# * Realtional Operators : == , != , > < >= <=\n",
    "# * Logical operators and - &, or - | , not , in, not in\n"
   ]
  },
  {
   "cell_type": "code",
   "execution_count": 21,
   "id": "fac4d21e",
   "metadata": {},
   "outputs": [],
   "source": [
    "s1 = \"test\""
   ]
  },
  {
   "cell_type": "code",
   "execution_count": 22,
   "id": "89609e0b",
   "metadata": {},
   "outputs": [
    {
     "name": "stdout",
     "output_type": "stream",
     "text": [
      "<class 'str'>\n"
     ]
    }
   ],
   "source": [
    "print(type(s1))"
   ]
  },
  {
   "cell_type": "code",
   "execution_count": 23,
   "id": "08cb6931",
   "metadata": {},
   "outputs": [],
   "source": [
    "x = None"
   ]
  },
  {
   "cell_type": "code",
   "execution_count": null,
   "id": "c9668723",
   "metadata": {},
   "outputs": [],
   "source": [
    "type(x)"
   ]
  },
  {
   "cell_type": "code",
   "execution_count": 24,
   "id": "95054d97",
   "metadata": {},
   "outputs": [
    {
     "name": "stdout",
     "output_type": "stream",
     "text": [
      "<class 'NoneType'>\n"
     ]
    }
   ],
   "source": [
    "print(type(x))"
   ]
  },
  {
   "cell_type": "code",
   "execution_count": 25,
   "id": "03196d32",
   "metadata": {},
   "outputs": [
    {
     "data": {
      "text/plain": [
       "True"
      ]
     },
     "execution_count": 25,
     "metadata": {},
     "output_type": "execute_result"
    }
   ],
   "source": [
    "x is None"
   ]
  },
  {
   "cell_type": "code",
   "execution_count": 26,
   "id": "843e9022",
   "metadata": {},
   "outputs": [],
   "source": [
    "x = 10"
   ]
  },
  {
   "cell_type": "code",
   "execution_count": 27,
   "id": "f586e3c4",
   "metadata": {},
   "outputs": [
    {
     "data": {
      "text/plain": [
       "False"
      ]
     },
     "execution_count": 27,
     "metadata": {},
     "output_type": "execute_result"
    }
   ],
   "source": [
    "x is None"
   ]
  },
  {
   "cell_type": "markdown",
   "id": "38ce7a6e",
   "metadata": {},
   "source": [
    "f1=3.2345"
   ]
  },
  {
   "cell_type": "code",
   "execution_count": 29,
   "id": "1f29f997",
   "metadata": {},
   "outputs": [],
   "source": [
    "f1=2.345"
   ]
  },
  {
   "cell_type": "code",
   "execution_count": 30,
   "id": "478a434b",
   "metadata": {},
   "outputs": [
    {
     "data": {
      "text/plain": [
       "2"
      ]
     },
     "execution_count": 30,
     "metadata": {},
     "output_type": "execute_result"
    }
   ],
   "source": [
    "int(f1)"
   ]
  },
  {
   "cell_type": "code",
   "execution_count": 31,
   "id": "7c322548",
   "metadata": {},
   "outputs": [
    {
     "name": "stdout",
     "output_type": "stream",
     "text": [
      "<class 'float'>\n"
     ]
    }
   ],
   "source": [
    "print(type(f1))"
   ]
  },
  {
   "cell_type": "code",
   "execution_count": 37,
   "id": "a8f95e1a",
   "metadata": {},
   "outputs": [
    {
     "data": {
      "text/plain": [
       "False"
      ]
     },
     "execution_count": 37,
     "metadata": {},
     "output_type": "execute_result"
    }
   ],
   "source": [
    "a ==24 and a > 24"
   ]
  },
  {
   "cell_type": "code",
   "execution_count": null,
   "id": "58ae7a80",
   "metadata": {},
   "outputs": [],
   "source": [
    "# ## Data Structures \n",
    "# * Set \n",
    "# * List\n",
    "# * Tuple\n",
    "# * Dictionary\n"
   ]
  },
  {
   "cell_type": "code",
   "execution_count": null,
   "id": "8b7ffe5f",
   "metadata": {},
   "outputs": [],
   "source": [
    "# #### Sets : unordered collection unique values combination of any values and multiple data type"
   ]
  },
  {
   "cell_type": "code",
   "execution_count": 38,
   "id": "81b362bb",
   "metadata": {},
   "outputs": [],
   "source": [
    "s = set()  # empty set"
   ]
  },
  {
   "cell_type": "code",
   "execution_count": 39,
   "id": "463e7f13",
   "metadata": {},
   "outputs": [],
   "source": [
    "s = {1,2,3,4,5,6,7,8,9,'a','c','d'}"
   ]
  },
  {
   "cell_type": "code",
   "execution_count": 40,
   "id": "c29a9184",
   "metadata": {},
   "outputs": [
    {
     "name": "stdout",
     "output_type": "stream",
     "text": [
      "{1, 2, 3, 4, 5, 6, 7, 8, 9, 'c', 'd', 'a'}\n"
     ]
    }
   ],
   "source": [
    "print(s)"
   ]
  },
  {
   "cell_type": "code",
   "execution_count": 41,
   "id": "a0072909",
   "metadata": {},
   "outputs": [
    {
     "name": "stdout",
     "output_type": "stream",
     "text": [
      "Help on built-in function add:\n",
      "\n",
      "add(...) method of builtins.set instance\n",
      "    Add an element to a set.\n",
      "    \n",
      "    This has no effect if the element is already present.\n",
      "\n"
     ]
    }
   ],
   "source": [
    "help(s.add)"
   ]
  },
  {
   "cell_type": "code",
   "execution_count": 42,
   "id": "6b3e1374",
   "metadata": {},
   "outputs": [],
   "source": [
    "get_ipython().run_line_magic('pinfo', 's.add')"
   ]
  },
  {
   "cell_type": "code",
   "execution_count": 43,
   "id": "6bba846e",
   "metadata": {},
   "outputs": [
    {
     "data": {
      "text/plain": [
       "<function set.add>"
      ]
     },
     "execution_count": 43,
     "metadata": {},
     "output_type": "execute_result"
    }
   ],
   "source": [
    "s.add"
   ]
  },
  {
   "cell_type": "code",
   "execution_count": null,
   "id": "be650406",
   "metadata": {},
   "outputs": [],
   "source": [
    "##List is an ordered collection multiple data values of same or defferent type"
   ]
  },
  {
   "cell_type": "code",
   "execution_count": 45,
   "id": "4725b0b1",
   "metadata": {},
   "outputs": [],
   "source": [
    "prime_numbers = [2,3,5,7,11,13,17,19,23]\n",
    "names = ['John', 'Ana', 'Rich', 'Drake']\n",
    "emp = ['Rita', 'female', 23, 4.5, 4500]\n",
    "temp = [23, 23, 24, 25, 28, 28, 29, 28, 27, 26, 25, 23]"
   ]
  },
  {
   "cell_type": "code",
   "execution_count": 46,
   "id": "62caa4ec",
   "metadata": {},
   "outputs": [
    {
     "data": {
      "text/plain": [
       "[2, 3, 5, 7, 11, 13, 17, 19, 23]"
      ]
     },
     "execution_count": 46,
     "metadata": {},
     "output_type": "execute_result"
    }
   ],
   "source": [
    "prime_numbers"
   ]
  },
  {
   "cell_type": "code",
   "execution_count": 47,
   "id": "a4b51943",
   "metadata": {},
   "outputs": [
    {
     "data": {
      "text/plain": [
       "['John', 'Ana', 'Rich', 'Drake']"
      ]
     },
     "execution_count": 47,
     "metadata": {},
     "output_type": "execute_result"
    }
   ],
   "source": [
    "names"
   ]
  },
  {
   "cell_type": "code",
   "execution_count": 48,
   "id": "8e327634",
   "metadata": {},
   "outputs": [
    {
     "data": {
      "text/plain": [
       "2"
      ]
     },
     "execution_count": 48,
     "metadata": {},
     "output_type": "execute_result"
    }
   ],
   "source": [
    "prime_numbers[0]"
   ]
  },
  {
   "cell_type": "code",
   "execution_count": 49,
   "id": "24e05d1f",
   "metadata": {},
   "outputs": [
    {
     "data": {
      "text/plain": [
       "23"
      ]
     },
     "execution_count": 49,
     "metadata": {},
     "output_type": "execute_result"
    }
   ],
   "source": [
    "prime_numbers[8]"
   ]
  },
  {
   "cell_type": "code",
   "execution_count": 50,
   "id": "c3f1ee6e",
   "metadata": {},
   "outputs": [
    {
     "data": {
      "text/plain": [
       "'Drake'"
      ]
     },
     "execution_count": 50,
     "metadata": {},
     "output_type": "execute_result"
    }
   ],
   "source": [
    "names[-1]"
   ]
  },
  {
   "cell_type": "code",
   "execution_count": 51,
   "id": "fdf7bc19",
   "metadata": {},
   "outputs": [
    {
     "data": {
      "text/plain": [
       "[28, 29, 28, 27, 26, 25, 23]"
      ]
     },
     "execution_count": 51,
     "metadata": {},
     "output_type": "execute_result"
    }
   ],
   "source": [
    "temp[5 :]"
   ]
  },
  {
   "cell_type": "code",
   "execution_count": 52,
   "id": "0d154835",
   "metadata": {},
   "outputs": [
    {
     "data": {
      "text/plain": [
       "[23, 23, 24, 25, 28, 28]"
      ]
     },
     "execution_count": 52,
     "metadata": {},
     "output_type": "execute_result"
    }
   ],
   "source": [
    "temp[: 6]"
   ]
  },
  {
   "cell_type": "code",
   "execution_count": 53,
   "id": "13be1fd0",
   "metadata": {},
   "outputs": [
    {
     "data": {
      "text/plain": [
       "[24, 25, 28, 28]"
      ]
     },
     "execution_count": 53,
     "metadata": {},
     "output_type": "execute_result"
    }
   ],
   "source": [
    "temp[2:6]"
   ]
  },
  {
   "cell_type": "code",
   "execution_count": null,
   "id": "17fcca93",
   "metadata": {},
   "outputs": [],
   "source": [
    "* From left to right 0 - no. of elements -1\n",
    "# * From right to left -1 --> -(no. of elements)\n",
    "\n",
    "# ### Multiple Values : Slice using colon operator\n",
    "\n",
    "# * start index : stop index\n",
    "\n"
   ]
  },
  {
   "cell_type": "code",
   "execution_count": 54,
   "id": "559d5c52",
   "metadata": {},
   "outputs": [
    {
     "data": {
      "text/plain": [
       "[23, 25, 26, 27, 28, 29]"
      ]
     },
     "execution_count": 54,
     "metadata": {},
     "output_type": "execute_result"
    }
   ],
   "source": [
    "temp[-1 : -7 : -1]"
   ]
  },
  {
   "cell_type": "code",
   "execution_count": 55,
   "id": "17dc043d",
   "metadata": {},
   "outputs": [
    {
     "data": {
      "text/plain": [
       "[23, 23, 24, 25, 28, 28, 29, 28, 27, 26, 25, 23]"
      ]
     },
     "execution_count": 55,
     "metadata": {},
     "output_type": "execute_result"
    }
   ],
   "source": [
    "temp"
   ]
  },
  {
   "cell_type": "code",
   "execution_count": 57,
   "id": "ca75320c",
   "metadata": {},
   "outputs": [],
   "source": [
    "temp.reverse()"
   ]
  },
  {
   "cell_type": "code",
   "execution_count": 58,
   "id": "0d1616d0",
   "metadata": {},
   "outputs": [
    {
     "data": {
      "text/plain": [
       "[23, 23, 24, 25, 28, 28, 29, 28, 27, 26, 25, 23]"
      ]
     },
     "execution_count": 58,
     "metadata": {},
     "output_type": "execute_result"
    }
   ],
   "source": [
    "temp[::-1]"
   ]
  },
  {
   "cell_type": "code",
   "execution_count": 59,
   "id": "9428b592",
   "metadata": {},
   "outputs": [
    {
     "data": {
      "text/plain": [
       "[23, 25, 26, 27, 28, 29, 28, 28, 25, 24, 23, 23]"
      ]
     },
     "execution_count": 59,
     "metadata": {},
     "output_type": "execute_result"
    }
   ],
   "source": [
    "temp"
   ]
  },
  {
   "cell_type": "code",
   "execution_count": 60,
   "id": "91e2e736",
   "metadata": {},
   "outputs": [],
   "source": [
    "prime_numbers.append(29)"
   ]
  },
  {
   "cell_type": "code",
   "execution_count": 61,
   "id": "4544cf5c",
   "metadata": {},
   "outputs": [
    {
     "data": {
      "text/plain": [
       "[2, 3, 5, 7, 11, 13, 17, 19, 23, 29]"
      ]
     },
     "execution_count": 61,
     "metadata": {},
     "output_type": "execute_result"
    }
   ],
   "source": [
    "prime_numbers"
   ]
  },
  {
   "cell_type": "code",
   "execution_count": 62,
   "id": "8b12769f",
   "metadata": {},
   "outputs": [],
   "source": [
    "prime_numbers.append([31,37])"
   ]
  },
  {
   "cell_type": "code",
   "execution_count": 63,
   "id": "a38da164",
   "metadata": {
    "scrolled": true
   },
   "outputs": [
    {
     "data": {
      "text/plain": [
       "[2, 3, 5, 7, 11, 13, 17, 19, 23, 29, [31, 37]]"
      ]
     },
     "execution_count": 63,
     "metadata": {},
     "output_type": "execute_result"
    }
   ],
   "source": [
    "prime_numbers"
   ]
  },
  {
   "cell_type": "code",
   "execution_count": 64,
   "id": "91a7ddbd",
   "metadata": {},
   "outputs": [],
   "source": [
    "prime_numbers.extend([43,47])"
   ]
  },
  {
   "cell_type": "code",
   "execution_count": 65,
   "id": "e5a3ee58",
   "metadata": {},
   "outputs": [
    {
     "data": {
      "text/plain": [
       "[2, 3, 5, 7, 11, 13, 17, 19, 23, 29, [31, 37], 43, 47]"
      ]
     },
     "execution_count": 65,
     "metadata": {},
     "output_type": "execute_result"
    }
   ],
   "source": [
    "prime_numbers"
   ]
  },
  {
   "cell_type": "code",
   "execution_count": 66,
   "id": "7ab4860b",
   "metadata": {},
   "outputs": [
    {
     "data": {
      "text/plain": [
       "13"
      ]
     },
     "execution_count": 66,
     "metadata": {},
     "output_type": "execute_result"
    }
   ],
   "source": [
    "prime_numbers.pop(5)"
   ]
  },
  {
   "cell_type": "code",
   "execution_count": 67,
   "id": "48f22bc3",
   "metadata": {},
   "outputs": [
    {
     "data": {
      "text/plain": [
       "7"
      ]
     },
     "execution_count": 67,
     "metadata": {},
     "output_type": "execute_result"
    }
   ],
   "source": [
    "prime_numbers.index(23)"
   ]
  },
  {
   "cell_type": "code",
   "execution_count": 68,
   "id": "7ae744c1",
   "metadata": {},
   "outputs": [
    {
     "data": {
      "text/plain": [
       "[23, 25, 26, 27, 28, 29, 28, 28, 25, 24, 23, 23]"
      ]
     },
     "execution_count": 68,
     "metadata": {},
     "output_type": "execute_result"
    }
   ],
   "source": [
    "temp"
   ]
  },
  {
   "cell_type": "code",
   "execution_count": 70,
   "id": "fc1dadca",
   "metadata": {},
   "outputs": [
    {
     "data": {
      "text/plain": [
       "4"
      ]
     },
     "execution_count": 70,
     "metadata": {},
     "output_type": "execute_result"
    }
   ],
   "source": [
    "temp.index(28)"
   ]
  },
  {
   "cell_type": "code",
   "execution_count": null,
   "id": "c7fb816d",
   "metadata": {},
   "outputs": [],
   "source": [
    "## find the second occurance of 28"
   ]
  },
  {
   "cell_type": "code",
   "execution_count": 72,
   "id": "abfbebb2",
   "metadata": {},
   "outputs": [],
   "source": [
    "temp.sort()"
   ]
  },
  {
   "cell_type": "code",
   "execution_count": 73,
   "id": "9ab66427",
   "metadata": {},
   "outputs": [
    {
     "data": {
      "text/plain": [
       "[23, 23, 23, 24, 25, 25, 26, 27, 28, 28, 28, 29]"
      ]
     },
     "execution_count": 73,
     "metadata": {},
     "output_type": "execute_result"
    }
   ],
   "source": [
    "temp"
   ]
  },
  {
   "cell_type": "code",
   "execution_count": 74,
   "id": "aad4717d",
   "metadata": {},
   "outputs": [
    {
     "data": {
      "text/plain": [
       "['John', 'Ana', 'Rich', 'Drake']"
      ]
     },
     "execution_count": 74,
     "metadata": {},
     "output_type": "execute_result"
    }
   ],
   "source": [
    "names"
   ]
  },
  {
   "cell_type": "code",
   "execution_count": 75,
   "id": "4293c87e",
   "metadata": {},
   "outputs": [],
   "source": [
    "names_copy = names"
   ]
  },
  {
   "cell_type": "code",
   "execution_count": 76,
   "id": "814595cd",
   "metadata": {},
   "outputs": [
    {
     "data": {
      "text/plain": [
       "['John', 'Ana', 'Rich', 'Drake']"
      ]
     },
     "execution_count": 76,
     "metadata": {},
     "output_type": "execute_result"
    }
   ],
   "source": [
    "names"
   ]
  },
  {
   "cell_type": "code",
   "execution_count": 77,
   "id": "2d3890e6",
   "metadata": {},
   "outputs": [
    {
     "data": {
      "text/plain": [
       "['John', 'Ana', 'Rich', 'Drake']"
      ]
     },
     "execution_count": 77,
     "metadata": {},
     "output_type": "execute_result"
    }
   ],
   "source": [
    "names_copy"
   ]
  },
  {
   "cell_type": "code",
   "execution_count": 79,
   "id": "46e590a6",
   "metadata": {},
   "outputs": [
    {
     "data": {
      "text/plain": [
       "1965820388096"
      ]
     },
     "execution_count": 79,
     "metadata": {},
     "output_type": "execute_result"
    }
   ],
   "source": [
    "id(names_copy)"
   ]
  },
  {
   "cell_type": "code",
   "execution_count": null,
   "id": "b7581034",
   "metadata": {},
   "outputs": [],
   "source": [
    "Tuples :orderd collection of multiple data types and are immutable"
   ]
  },
  {
   "cell_type": "code",
   "execution_count": 80,
   "id": "96dd36d9",
   "metadata": {},
   "outputs": [],
   "source": [
    "tup = (32,45,'a','b','a',32)\n"
   ]
  },
  {
   "cell_type": "code",
   "execution_count": 81,
   "id": "4acaa32f",
   "metadata": {},
   "outputs": [
    {
     "data": {
      "text/plain": [
       "(32, 45, 'a', 'b', 'a', 32)"
      ]
     },
     "execution_count": 81,
     "metadata": {},
     "output_type": "execute_result"
    }
   ],
   "source": [
    "tup"
   ]
  },
  {
   "cell_type": "code",
   "execution_count": 82,
   "id": "d0ff8de7",
   "metadata": {},
   "outputs": [
    {
     "data": {
      "text/plain": [
       "32"
      ]
     },
     "execution_count": 82,
     "metadata": {},
     "output_type": "execute_result"
    }
   ],
   "source": [
    "tup[0]"
   ]
  },
  {
   "cell_type": "code",
   "execution_count": 83,
   "id": "820afecf",
   "metadata": {},
   "outputs": [
    {
     "data": {
      "text/plain": [
       "2"
      ]
     },
     "execution_count": 83,
     "metadata": {},
     "output_type": "execute_result"
    }
   ],
   "source": [
    "tup.count('a')"
   ]
  },
  {
   "cell_type": "code",
   "execution_count": null,
   "id": "23c62661",
   "metadata": {},
   "outputs": [],
   "source": [
    "# ## Dictionaries : key value pairs of data \n",
    "#     d = {key : value }\n",
    "\n",
    "# ##### Key : can any python object but need to be immutable and unique for that dictionary (Num, string, tup)\n",
    "# ##### Value : can be any arbitrary Python object ( number string list tup ...)\n"
   ]
  },
  {
   "cell_type": "code",
   "execution_count": 84,
   "id": "30a2ce0b",
   "metadata": {},
   "outputs": [],
   "source": [
    "d = {'name' : 'lakshmi'}"
   ]
  },
  {
   "cell_type": "code",
   "execution_count": 85,
   "id": "a25a9ceb",
   "metadata": {},
   "outputs": [
    {
     "data": {
      "text/plain": [
       "{'name': 'lakshmi'}"
      ]
     },
     "execution_count": 85,
     "metadata": {},
     "output_type": "execute_result"
    }
   ],
   "source": [
    "d"
   ]
  },
  {
   "cell_type": "code",
   "execution_count": 86,
   "id": "ca6f1bc4",
   "metadata": {},
   "outputs": [],
   "source": [
    "emp ={ 'Name' : 'lakshmi','exp':10}"
   ]
  },
  {
   "cell_type": "code",
   "execution_count": 87,
   "id": "ed1513cf",
   "metadata": {},
   "outputs": [
    {
     "data": {
      "text/plain": [
       "{'Name': 'lakshmi', 'exp': 10}"
      ]
     },
     "execution_count": 87,
     "metadata": {},
     "output_type": "execute_result"
    }
   ],
   "source": [
    "emp"
   ]
  },
  {
   "cell_type": "code",
   "execution_count": 88,
   "id": "faa65da1",
   "metadata": {},
   "outputs": [],
   "source": [
    "brics = {'Brazil' :'Brasilia', 'Russia':'Moscow','India': 'Delhi', 'China':'Beijing','South Africa':'Pretoria'}\n",
    "\n"
   ]
  },
  {
   "cell_type": "code",
   "execution_count": 89,
   "id": "a499dbe4",
   "metadata": {},
   "outputs": [],
   "source": [
    "brics = {'Brazil' :'Brasilia', 'Russia':'Moscow','India': 'Delhi', 'China':'Beijing','South Africa':'Pretoria'}\n",
    "\n"
   ]
  },
  {
   "cell_type": "code",
   "execution_count": null,
   "id": "8df2d3ec",
   "metadata": {},
   "outputs": [],
   "source": [
    "brics = {'Brazil' :['Brasilia',8.5] , 'Russia':['Moscow',17.1],\n",
    "         'India':['Delhi',3.28] , 'China':['Beijing' ,9.6],'South Africa': ['Pretoria',1.22] }\n"
   ]
  },
  {
   "cell_type": "code",
   "execution_count": 90,
   "id": "8dee5c87",
   "metadata": {},
   "outputs": [
    {
     "data": {
      "text/plain": [
       "{'Brazil': 'Brasilia',\n",
       " 'Russia': 'Moscow',\n",
       " 'India': 'Delhi',\n",
       " 'China': 'Beijing',\n",
       " 'South Africa': 'Pretoria'}"
      ]
     },
     "execution_count": 90,
     "metadata": {},
     "output_type": "execute_result"
    }
   ],
   "source": [
    "brics"
   ]
  },
  {
   "cell_type": "raw",
   "id": "2cf3a0cf",
   "metadata": {},
   "source": [
    "country = ['Brazil' , 'Russia', 'India','China', 'South Africa']\n",
    "capitals = ['Brasilia', 'Moscow', 'Delhi', 'Beijing','Pretoria']\n"
   ]
  },
  {
   "cell_type": "code",
   "execution_count": 93,
   "id": "30a634e3",
   "metadata": {},
   "outputs": [
    {
     "data": {
      "text/plain": [
       "'Given key is not available'"
      ]
     },
     "execution_count": 93,
     "metadata": {},
     "output_type": "execute_result"
    }
   ],
   "source": [
    "brics.get('US','Given key is not available')"
   ]
  },
  {
   "cell_type": "code",
   "execution_count": 95,
   "id": "de026bcd",
   "metadata": {},
   "outputs": [
    {
     "data": {
      "text/plain": [
       "dict_keys(['Brazil', 'Russia', 'India', 'China', 'South Africa'])"
      ]
     },
     "execution_count": 95,
     "metadata": {},
     "output_type": "execute_result"
    }
   ],
   "source": [
    "brics.keys()"
   ]
  },
  {
   "cell_type": "code",
   "execution_count": null,
   "id": "1f8f27a9",
   "metadata": {},
   "outputs": [],
   "source": []
  },
  {
   "cell_type": "code",
   "execution_count": 97,
   "id": "154e4377",
   "metadata": {},
   "outputs": [
    {
     "data": {
      "text/plain": [
       "dict_values(['Brasilia', 'Moscow', 'Delhi', 'Beijing', 'Pretoria'])"
      ]
     },
     "execution_count": 97,
     "metadata": {},
     "output_type": "execute_result"
    }
   ],
   "source": [
    "brics.values()"
   ]
  },
  {
   "cell_type": "raw",
   "id": "9bae4fdd",
   "metadata": {},
   "source": [
    "\n"
   ]
  },
  {
   "cell_type": "code",
   "execution_count": 3,
   "id": "416c1c12",
   "metadata": {},
   "outputs": [
    {
     "ename": "NameError",
     "evalue": "name 'world' is not defined",
     "output_type": "error",
     "traceback": [
      "\u001b[1;31m---------------------------------------------------------------------------\u001b[0m",
      "\u001b[1;31mNameError\u001b[0m                                 Traceback (most recent call last)",
      "Input \u001b[1;32mIn [3]\u001b[0m, in \u001b[0;36m<cell line: 1>\u001b[1;34m()\u001b[0m\n\u001b[1;32m----> 1\u001b[0m \u001b[43mworld\u001b[49m[\u001b[38;5;124m'\u001b[39m\u001b[38;5;124malbania\u001b[39m\u001b[38;5;124m'\u001b[39m] \u001b[38;5;241m=\u001b[39m \u001b[38;5;241m3.22\u001b[39m\n",
      "\u001b[1;31mNameError\u001b[0m: name 'world' is not defined"
     ]
    }
   ],
   "source": [
    "world['albania'] = 3.22\n"
   ]
  },
  {
   "cell_type": "code",
   "execution_count": null,
   "id": "9c04803c",
   "metadata": {},
   "outputs": [],
   "source": []
  },
  {
   "cell_type": "code",
   "execution_count": 102,
   "id": "ecf736ae",
   "metadata": {},
   "outputs": [
    {
     "ename": "NameError",
     "evalue": "name 'world' is not defined",
     "output_type": "error",
     "traceback": [
      "\u001b[1;31m---------------------------------------------------------------------------\u001b[0m",
      "\u001b[1;31mNameError\u001b[0m                                 Traceback (most recent call last)",
      "Cell \u001b[1;32mIn[102], line 1\u001b[0m\n\u001b[1;32m----> 1\u001b[0m \u001b[43mworld\u001b[49m\n",
      "\u001b[1;31mNameError\u001b[0m: name 'world' is not defined"
     ]
    }
   ],
   "source": [
    "world"
   ]
  },
  {
   "cell_type": "code",
   "execution_count": 103,
   "id": "da382a95",
   "metadata": {},
   "outputs": [],
   "source": [
    "world = {'albania': 2.77 , 'afganistan' : 30.55 , 'algeria' : 39.21}"
   ]
  },
  {
   "cell_type": "code",
   "execution_count": 104,
   "id": "b95bb080",
   "metadata": {},
   "outputs": [],
   "source": [
    "world['albania'] = 3.22"
   ]
  },
  {
   "cell_type": "code",
   "execution_count": 105,
   "id": "be7a337f",
   "metadata": {},
   "outputs": [
    {
     "data": {
      "text/plain": [
       "{'albania': 3.22, 'afganistan': 30.55, 'algeria': 39.21}"
      ]
     },
     "execution_count": 105,
     "metadata": {},
     "output_type": "execute_result"
    }
   ],
   "source": [
    "world\n"
   ]
  },
  {
   "cell_type": "code",
   "execution_count": 106,
   "id": "0ce534ba",
   "metadata": {},
   "outputs": [],
   "source": [
    "world.update({'nepal':2.4})"
   ]
  },
  {
   "cell_type": "code",
   "execution_count": 107,
   "id": "cee5a30d",
   "metadata": {},
   "outputs": [
    {
     "data": {
      "text/plain": [
       "{'albania': 3.22, 'afganistan': 30.55, 'algeria': 39.21, 'nepal': 2.4}"
      ]
     },
     "execution_count": 107,
     "metadata": {},
     "output_type": "execute_result"
    }
   ],
   "source": [
    "world"
   ]
  },
  {
   "cell_type": "code",
   "execution_count": 108,
   "id": "582a78a1",
   "metadata": {},
   "outputs": [],
   "source": [
    "attendence = { 'Day1': [32,43,12,34], \n",
    "             'Day2' : [],\n",
    "             (2,3):[3,4]}\n",
    "\n"
   ]
  },
  {
   "cell_type": "code",
   "execution_count": 109,
   "id": "7cd37eb9",
   "metadata": {},
   "outputs": [
    {
     "data": {
      "text/plain": [
       "{'Day1': [32, 43, 12, 34], 'Day2': [], (2, 3): [3, 4]}"
      ]
     },
     "execution_count": 109,
     "metadata": {},
     "output_type": "execute_result"
    }
   ],
   "source": [
    "attendence\n"
   ]
  },
  {
   "cell_type": "code",
   "execution_count": 110,
   "id": "1ddbb571",
   "metadata": {},
   "outputs": [
    {
     "data": {
      "text/plain": [
       "dict_keys(['Day1', 'Day2', (2, 3)])"
      ]
     },
     "execution_count": 110,
     "metadata": {},
     "output_type": "execute_result"
    }
   ],
   "source": [
    "attendence.keys()"
   ]
  },
  {
   "cell_type": "code",
   "execution_count": 112,
   "id": "b9dd2e38",
   "metadata": {},
   "outputs": [
    {
     "data": {
      "text/plain": [
       "dict_values([[32, 43, 12, 34], [], [3, 4]])"
      ]
     },
     "execution_count": 112,
     "metadata": {},
     "output_type": "execute_result"
    }
   ],
   "source": [
    "attendence.values()"
   ]
  },
  {
   "cell_type": "code",
   "execution_count": 113,
   "id": "1e396b1a",
   "metadata": {},
   "outputs": [
    {
     "data": {
      "text/plain": [
       "{'Day1': [32, 43, 12, 34], 'Day2': [], (2, 3): [3, 4]}"
      ]
     },
     "execution_count": 113,
     "metadata": {},
     "output_type": "execute_result"
    }
   ],
   "source": [
    "attendence"
   ]
  },
  {
   "cell_type": "code",
   "execution_count": null,
   "id": "2fa348fd",
   "metadata": {},
   "outputs": [],
   "source": []
  }
 ],
 "metadata": {
  "kernelspec": {
   "display_name": "Python 3 (ipykernel)",
   "language": "python",
   "name": "python3"
  },
  "language_info": {
   "codemirror_mode": {
    "name": "ipython",
    "version": 3
   },
   "file_extension": ".py",
   "mimetype": "text/x-python",
   "name": "python",
   "nbconvert_exporter": "python",
   "pygments_lexer": "ipython3",
   "version": "3.9.12"
  }
 },
 "nbformat": 4,
 "nbformat_minor": 5
}
